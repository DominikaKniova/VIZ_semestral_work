{
 "cells": [
  {
   "cell_type": "code",
   "execution_count": 9,
   "metadata": {},
   "outputs": [
    {
     "name": "stdout",
     "output_type": "stream",
     "text": [
      "inputs  (10000, 28, 28)\n",
      "softmax (10000, 10)\n",
      "targets (10000,)\n",
      "preds   (10000,)\n",
      "dense1 (10000, 512)\n",
      "dense2 (10000, 512)\n"
     ]
    }
   ],
   "source": [
    "import numpy as np\n",
    "from sklearn.manifold import TSNE\n",
    "from sklearn.discriminant_analysis import LinearDiscriminantAnalysis\n",
    "from sklearn.decomposition import PCA\n",
    "from sklearn import preprocessing\n",
    "from sklearn.preprocessing import StandardScaler\n",
    "from matplotlib import pyplot as plt\n",
    "import sys, os\n",
    "\n",
    "aux=np.load('test_data.npz')\n",
    "softmax = aux['softmax']\n",
    "preds = aux['predicted_classes']\n",
    "inputs = aux['X_test']\n",
    "targets = aux['y_test']\n",
    "dense1 = aux['dense_1']\n",
    "dense2 = aux['dense_2']\n",
    "\n",
    "print('inputs ', inputs.shape)\n",
    "print('softmax', softmax.shape)\n",
    "print('targets', targets.shape)\n",
    "print('preds  ', preds.shape)\n",
    "print('dense1', dense1.shape)\n",
    "print('dense2', dense2.shape)"
   ]
  },
  {
   "cell_type": "code",
   "execution_count": 10,
   "metadata": {},
   "outputs": [],
   "source": [
    "def cart2pol(x, y):\n",
    "    rho = np.sqrt(x**2 + y**2)\n",
    "    phi = np.arctan2(y, x)\n",
    "    return(rho, phi)\n",
    "\n",
    "def pol2cart(r, phi):\n",
    "    x = r * np.cos(phi)\n",
    "    y = r * np.sin(phi)\n",
    "    return(x, y)"
   ]
  },
  {
   "cell_type": "code",
   "execution_count": 11,
   "metadata": {},
   "outputs": [],
   "source": [
    "os.makedirs('App/Data/', exist_ok=True)\n",
    "os.makedirs('App/Data/Dense1', exist_ok=True)\n",
    "os.makedirs('App/Data/Dense2', exist_ok=True)\n",
    "os.makedirs('App/Data/Softmax', exist_ok=True)"
   ]
  },
  {
   "cell_type": "code",
   "execution_count": 12,
   "metadata": {},
   "outputs": [],
   "source": [
    "angles = np.linspace(0, 2*np.pi, 10, endpoint=False)\n",
    "vectors = np.array([pol2cart(r=1, phi=a) for a in angles])"
   ]
  },
  {
   "cell_type": "code",
   "execution_count": 13,
   "metadata": {},
   "outputs": [],
   "source": [
    "np.savetxt('App/Data/vectors.csv', vectors, delimiter=',', comments='', header='x,y')"
   ]
  },
  {
   "cell_type": "code",
   "execution_count": 14,
   "metadata": {},
   "outputs": [
    {
     "name": "stdout",
     "output_type": "stream",
     "text": [
      "(10000, 10)\n",
      "(10, 2)\n",
      "(10000, 2)\n",
      "(10000, 3)\n"
     ]
    }
   ],
   "source": [
    "print(softmax.shape)\n",
    "print(vectors.shape)\n",
    "points = np.matmul(softmax,vectors)\n",
    "print(points.shape)\n",
    "out = np.concatenate([points,np.expand_dims(targets,1)], axis=1)\n",
    "print(out.shape)\n",
    "np.savetxt('App/Data/points.csv', out, delimiter=',', comments='', header='x,y,class')"
   ]
  },
  {
   "cell_type": "code",
   "execution_count": 15,
   "metadata": {},
   "outputs": [],
   "source": [
    "for c in range(10):\n",
    "    out = np.mean(dense1[targets==c], axis=0)\n",
    "    np.savetxt('App/Data/Dense1/class{}.csv'.format(c), out, delimiter=',', comments='', header='activation')"
   ]
  },
  {
   "cell_type": "code",
   "execution_count": 16,
   "metadata": {},
   "outputs": [],
   "source": [
    "for c in range(10):\n",
    "    out = np.mean(dense2[targets==c], axis=0)\n",
    "    np.savetxt('App/Data/Dense2/class{}.csv'.format(c), out, delimiter=',', comments='', header='activation')"
   ]
  },
  {
   "cell_type": "code",
   "execution_count": 17,
   "metadata": {},
   "outputs": [],
   "source": [
    "for c in range(10):\n",
    "    out = np.mean(softmax[targets==c], axis=0)\n",
    "    np.savetxt('App/Data/Softmax/class{}.csv'.format(c), out, delimiter=',', comments='', header='activation')"
   ]
  }
 ],
 "metadata": {
  "kernelspec": {
   "display_name": "VIZ",
   "language": "python",
   "name": "viz"
  },
  "language_info": {
   "codemirror_mode": {
    "name": "ipython",
    "version": 3
   },
   "file_extension": ".py",
   "mimetype": "text/x-python",
   "name": "python",
   "nbconvert_exporter": "python",
   "pygments_lexer": "ipython3",
   "version": "3.7.4"
  },
  "pycharm": {
   "stem_cell": {
    "cell_type": "raw",
    "metadata": {
     "collapsed": false
    },
    "source": []
   }
  }
 },
 "nbformat": 4,
 "nbformat_minor": 2
}
