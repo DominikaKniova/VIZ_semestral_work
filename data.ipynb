{
 "cells": [
  {
   "cell_type": "code",
   "execution_count": 1,
   "metadata": {
    "collapsed": true
   },
   "outputs": [],
   "source": [
    "%matplotlib inline"
   ]
  },
  {
   "cell_type": "markdown",
   "metadata": {},
   "source": [
    "# Building a simple neural-network with Keras\n",
    "\n",
    "**Author: Xavier Snelgrove**\n",
    "\n",
    "This is a simple quick-start in performing digit recognition in a neural network in Keras, for a short tutorial at the University of Toronto. It is largely based on the `mnist_mlp.py` example from the Keras source.\n"
   ]
  },
  {
   "cell_type": "markdown",
   "metadata": {},
   "source": [
    "## Install prerequisites\n",
    "First steps (instructions for Mac or Linux). You need to install a recent version of Python, plus the packages `keras`, `numpy`, `matplotlib` and `jupyter`.\n",
    "\n",
    "### Install a recent Python\n",
    "\n",
    "If you haven't installed a recent Python I recommend installing via Homebrew on a Mac from http://brew.sh and then installing Python via `brew install python`.\n",
    "\n",
    "\n",
    "### Configure a virtual environment\n",
    "\n",
    "You can install the packages globally, but I suggest installing them in a `virtualenv` virtual environment that basically encapsulates a full isolated Python environment. First you'll need to install a Python package manager called `pip` thus:\n",
    "\n",
    "    easy_install pip\n",
    "    \n",
    "(If you get a permissions error, try adding a `sudo` to the beginning, so `sudo easy_install pip`)\n",
    "\n",
    "Now install virtualenv thus:\n",
    "\n",
    "    pip install virtualenv\n",
    "\n",
    "Navigate to your home directory `cd ~` and create a virtual environment. We'll call it `kerasenv`\n",
    "\n",
    "    virtualenv kerasenv\n",
    "\n",
    "Now, to switch your shell environment to be within the env:\n",
    "\n",
    "    source kerasenv/bin/activate\n",
    "    \n",
    "Great: now you can install the other prerequisites into this environment.\n",
    "\n",
    "    pip install numpy jupyter keras matplotlib\n",
    "    \n",
    "\n",
    "## Open a new notebook\n",
    "\n",
    "Now that everything's installed, you can open one of these web-based Python environments with the following command:\n",
    "\n",
    "    ipython notebook\n",
    "    \n",
    "Create a new Python notebook from the \"New\" menu at the top-right:\n",
    "\n",
    "<img src=\"newnotebook.png\">\n",
    "\n",
    "You should now be able to run Python in your browser!"
   ]
  },
  {
   "cell_type": "markdown",
   "metadata": {},
   "source": [
    "## Time to build a neural network!\n",
    "First let's import some prerequisites"
   ]
  },
  {
   "cell_type": "code",
   "execution_count": 1,
   "metadata": {
    "collapsed": false
   },
   "outputs": [
    {
     "name": "stderr",
     "output_type": "stream",
     "text": [
      "Using TensorFlow backend.\n"
     ]
    }
   ],
   "source": [
    "import numpy as np\n",
    "import matplotlib.pyplot as plt\n",
    "plt.rcParams['figure.figsize'] = (7,7) # Make the figures a bit bigger\n",
    "\n",
    "from keras.datasets import mnist\n",
    "from keras.models import Sequential\n",
    "from keras.layers.core import Dense, Dropout, Activation\n",
    "from keras.utils import np_utils"
   ]
  },
  {
   "cell_type": "markdown",
   "metadata": {},
   "source": [
    "## Load training data"
   ]
  },
  {
   "cell_type": "code",
   "execution_count": 13,
   "metadata": {
    "collapsed": false
   },
   "outputs": [
    {
     "name": "stdout",
     "output_type": "stream",
     "text": [
      "X_train original shape (60000, 28, 28)\n",
      "y_train original shape (60000,)\n"
     ]
    }
   ],
   "source": [
    "nb_classes = 10\n",
    "\n",
    "# the data, shuffled and split between tran and test sets\n",
    "(X_train, y_train), (X_test, y_test) = mnist.load_data(path='mnist.npz') # in .keras/datasets\n",
    "print(\"X_train original shape\", X_train.shape)\n",
    "print(\"y_train original shape\", y_train.shape)"
   ]
  },
  {
   "cell_type": "markdown",
   "metadata": {},
   "source": [
    "Let's look at some examples of the training data"
   ]
  },
  {
   "cell_type": "code",
   "execution_count": 14,
   "metadata": {
    "collapsed": false
   },
   "outputs": [
    {
     "data": {
      "image/png": "[encoded data removed]",
      "text/plain": [
       "<Figure size 504x504 with 9 Axes>"
      ]
     },
     "metadata": {
      "needs_background": "light"
     },
     "output_type": "display_data"
    }
   ],
   "source": [
    "for i in range(9):\n",
    "    plt.subplot(3,3,i+1)\n",
    "    plt.imshow(X_train[i], cmap='gray', interpolation='none')\n",
    "    plt.title(\"Class {}\".format(y_train[i]))"
   ]
  },
  {
   "cell_type": "markdown",
   "metadata": {},
   "source": [
    "## Format the data for training\n",
    "Our neural-network is going to take a single vector for each training example, so we need to reshape the input so that each 28x28 image becomes a single 784 dimensional vector. We'll also scale the inputs to be in the range [0-1] rather than [0-255]"
   ]
  },
  {
   "cell_type": "code",
   "execution_count": 15,
   "metadata": {
    "collapsed": false
   },
   "outputs": [
    {
     "name": "stdout",
     "output_type": "stream",
     "text": [
      "Training matrix shape (60000, 784)\n",
      "Testing matrix shape (10000, 784)\n"
     ]
    }
   ],
   "source": [
    "X_train = X_train.reshape(60000, 784)\n",
    "X_test = X_test.reshape(10000, 784)\n",
    "X_train = X_train.astype('float32')\n",
    "X_test = X_test.astype('float32')\n",
    "X_train /= 255\n",
    "X_test /= 255\n",
    "print(\"Training matrix shape\", X_train.shape)\n",
    "print(\"Testing matrix shape\", X_test.shape)"
   ]
  },
  {
   "cell_type": "markdown",
   "metadata": {},
   "source": [
    "Modify the target matrices to be in the one-hot format, i.e.\n",
    "\n",
    "```\n",
    "0 -> [1, 0, 0, 0, 0, 0, 0, 0, 0]\n",
    "1 -> [0, 1, 0, 0, 0, 0, 0, 0, 0]\n",
    "2 -> [0, 0, 1, 0, 0, 0, 0, 0, 0]\n",
    "etc.\n",
    "```"
   ]
  },
  {
   "cell_type": "code",
   "execution_count": 16,
   "metadata": {
    "collapsed": false
   },
   "outputs": [],
   "source": [
    "Y_train = np_utils.to_categorical(y_train, nb_classes)\n",
    "Y_test = np_utils.to_categorical(y_test, nb_classes)"
   ]
  },
  {
   "cell_type": "markdown",
   "metadata": {},
   "source": [
    "# Build the neural network\n",
    "Build the neural-network. Here we'll do a simple 3 layer fully connected network.\n",
    "<img src=\"figure.png\" />"
   ]
  },
  {
   "cell_type": "code",
   "execution_count": 17,
   "metadata": {
    "collapsed": true
   },
   "outputs": [],
   "source": [
    "model = Sequential()\n",
    "model.add(Dense(512, input_shape=(784,)))\n",
    "model.add(Activation('relu')) # An \"activation\" is just a non-linear function applied to the output\n",
    "                              # of the layer above. Here, with a \"rectified linear unit\",\n",
    "                              # we clamp all values below 0 to 0.\n",
    "                           \n",
    "model.add(Dropout(0.2))   # Dropout helps protect the model from memorizing or \"overfitting\" the training data\n",
    "model.add(Dense(512))\n",
    "model.add(Activation('relu'))\n",
    "model.add(Dropout(0.2))\n",
    "model.add(Dense(10))\n",
    "model.add(Activation('softmax')) # This special \"softmax\" activation among other things,\n",
    "                                 # ensures the output is a valid probaility distribution, that is\n",
    "                                 # that its values are all non-negative and sum to 1."
   ]
  },
  {
   "cell_type": "markdown",
   "metadata": {},
   "source": [
    "## Compile the model\n",
    "Keras is built on top of Theano (and now TensorFlow as well), both packages that allow you to define a *computation graph* in Python, which they then compile and run efficiently on the CPU or GPU without the overhead of the Python interpreter.\n",
    "\n",
    "When compiing a model, Keras asks you to specify your **loss function** and your **optimizer**. The loss function we'll use here is called *categorical crossentropy*, and is a loss function well-suited to comparing two probability distributions.\n",
    "\n",
    "Here our predictions are probability distributions across the ten different digits (e.g. \"we're 80% confident this image is a 3, 10% sure it's an 8, 5% it's a 2, etc.\"), and the target is a probability distribution with 100% for the correct category, and 0 for everything else. The cross-entropy is a measure of how different your predicted distribution is from the target distribution. [More detail at Wikipedia](https://en.wikipedia.org/wiki/Cross_entropy)\n",
    "\n",
    "The optimizer helps determine how quickly the model learns, how resistent it is to getting \"stuck\" or \"blowing up\". We won't discuss this in too much detail, but \"adam\" is often a good choice (developed here at U of T)."
   ]
  },
  {
   "cell_type": "code",
   "execution_count": 18,
   "metadata": {
    "collapsed": true
   },
   "outputs": [],
   "source": [
    "model.compile(loss='categorical_crossentropy', optimizer='adam', metrics=['accuracy'])"
   ]
  },
  {
   "cell_type": "markdown",
   "metadata": {},
   "source": [
    "## Train the model!\n",
    "This is the fun part: you can feed the training data loaded in earlier into this model and it will learn to classify digits"
   ]
  },
  {
   "cell_type": "code",
   "execution_count": 19,
   "metadata": {
    "collapsed": false
   },
   "outputs": [
    {
     "name": "stderr",
     "output_type": "stream",
     "text": [
      "/home/milan/School/2019-2020/B4M39VIZ/Semestral_work/env/lib/python3.7/site-packages/ipykernel_launcher.py:1: UserWarning: The `nb_epoch` argument in `fit` has been renamed `epochs`.\n",
      "  \"\"\"Entry point for launching an IPython kernel.\n"
     ]
    },
    {
     "name": "stdout",
     "output_type": "stream",
     "text": [
      "Train on 60000 samples, validate on 10000 samples\n",
      "Epoch 1/4\n",
      "60000/60000 [==============================] - 6s 105us/step - loss: 0.2549 - accuracy: 0.9242 - val_loss: 0.1065 - val_accuracy: 0.9664\n",
      "Epoch 2/4\n",
      "60000/60000 [==============================] - 7s 112us/step - loss: 0.1022 - accuracy: 0.9688 - val_loss: 0.0833 - val_accuracy: 0.9739\n",
      "Epoch 3/4\n",
      "60000/60000 [==============================] - 3s 58us/step - loss: 0.0730 - accuracy: 0.9769 - val_loss: 0.0679 - val_accuracy: 0.9795\n",
      "Epoch 4/4\n",
      "60000/60000 [==============================] - 4s 60us/step - loss: 0.0562 - accuracy: 0.9814 - val_loss: 0.0628 - val_accuracy: 0.9807\n"
     ]
    },
    {
     "data": {
      "text/plain": [
       "<keras.callbacks.callbacks.History at 0x7f59f6a49810>"
      ]
     },
     "execution_count": 19,
     "metadata": {},
     "output_type": "execute_result"
    }
   ],
   "source": [
    "model.fit(X_train, Y_train, batch_size=128, nb_epoch=4, verbose=1, validation_data=(X_test, Y_test))"
   ]
  },
  {
   "cell_type": "markdown",
   "metadata": {},
   "source": [
    "## Finally, evaluate its performance"
   ]
  },
  {
   "cell_type": "code",
   "execution_count": 20,
   "metadata": {
    "collapsed": false
   },
   "outputs": [
    {
     "name": "stdout",
     "output_type": "stream",
     "text": [
      "Test score: 0.06279096410372295\n",
      "Test accuracy: 0.9807000160217285\n"
     ]
    }
   ],
   "source": [
    "score = model.evaluate(X_test, Y_test, verbose=0)\n",
    "print('Test score:', score[0])\n",
    "print('Test accuracy:', score[1])"
   ]
  },
  {
   "cell_type": "markdown",
   "metadata": {},
   "source": [
    "### Inspecting the output\n",
    "\n",
    "It's always a good idea to inspect the output and make sure everything looks sane. Here we'll look at some examples it gets right, and some examples it gets wrong."
   ]
  },
  {
   "cell_type": "code",
   "execution_count": 22,
   "metadata": {
    "collapsed": false
   },
   "outputs": [
    {
     "data": {
      "text/plain": [
       "array([7, 2, 1, ..., 4, 5, 6])"
      ]
     },
     "execution_count": 22,
     "metadata": {},
     "output_type": "execute_result"
    }
   ],
   "source": [
    "# The predict_classes function outputs the highest probability class\n",
    "# according to the trained classifier for each input example.\n",
    "predicted_classes = model.predict_classes(X_test)\n",
    "\n",
    "# Check which items we got right / wrong\n",
    "correct_indices = np.nonzero(predicted_classes == y_test)[0]\n",
    "incorrect_indices = np.nonzero(predicted_classes != y_test)[0]\n",
    "\n",
    "predicted_classes"
   ]
  },
  {
   "cell_type": "code",
   "execution_count": 23,
   "metadata": {
    "collapsed": false
   },
   "outputs": [
    {
     "data": {
      "image/png": "[encoded data removed]",
      "text/plain": [
       "<Figure size 504x504 with 9 Axes>"
      ]
     },
     "metadata": {
      "needs_background": "light"
     },
     "output_type": "display_data"
    },
    {
     "data": {
      "image/png": "[encoded data removed]",
      "text/plain": [
       "<Figure size 504x504 with 9 Axes>"
      ]
     },
     "metadata": {
      "needs_background": "light"
     },
     "output_type": "display_data"
    }
   ],
   "source": [
    "plt.figure()\n",
    "for i, correct in enumerate(correct_indices[:9]):\n",
    "    plt.subplot(3,3,i+1)\n",
    "    plt.imshow(X_test[correct].reshape(28,28), cmap='gray', interpolation='none')\n",
    "    plt.title(\"Predicted {}, Class {}\".format(predicted_classes[correct], y_test[correct]))\n",
    "    \n",
    "plt.figure()\n",
    "for i, incorrect in enumerate(incorrect_indices[:9]):\n",
    "    plt.subplot(3,3,i+1)\n",
    "    plt.imshow(X_test[incorrect].reshape(28,28), cmap='gray', interpolation='none')\n",
    "    plt.title(\"Predicted {}, Class {}\".format(predicted_classes[incorrect], y_test[incorrect]))"
   ]
  },
  {
   "cell_type": "markdown",
   "metadata": {},
   "source": [
    "# That's all!"
   ]
  },
  {
   "cell_type": "markdown",
   "metadata": {},
   "source": [
    "There are lots of other great examples at the Keras homepage at http://keras.io and in the source code at https://github.com/fchollet/keras"
   ]
  },
  {
   "cell_type": "code",
   "execution_count": 39,
   "metadata": {
    "collapsed": false,
    "pycharm": {
     "name": "#%%\n"
    }
   },
   "outputs": [],
   "source": [
    "(X_train, y_train), (X_test, y_test) = mnist.load_data()\n",
    "X_train = X_train.reshape(60000, 784)\n",
    "X_test = X_test.reshape(10000, 784)\n",
    "X_train = X_train.astype('float32')\n",
    "X_test = X_test.astype('float32')\n",
    "X_train /= 255\n",
    "X_test /= 255\n",
    "from keras import backend as K\n",
    "which_layer = -1"
   ]
  },
  {
   "cell_type": "code",
   "execution_count": 42,
   "metadata": {
    "collapsed": false,
    "pycharm": {
     "name": "#%%\n"
    }
   },
   "outputs": [
    {
     "name": "stdout",
     "output_type": "stream",
     "text": [
      "shape (10000, 10)\n",
      "[[4.5474849e-10 9.1639336e-09 7.3238624e-08 ... 9.9999964e-01\n",
      "  6.8690192e-10 5.5002907e-08]\n",
      " [2.6558278e-10 2.2163593e-05 9.9997771e-01 ... 7.3189366e-09\n",
      "  2.2043987e-09 2.0466337e-12]\n",
      " [2.7774486e-06 9.9928683e-01 3.1480737e-05 ... 2.8626973e-04\n",
      "  2.4481849e-05 3.4664315e-06]\n",
      " ...\n",
      " [4.4290377e-10 6.0415438e-08 1.3481059e-10 ... 3.5845765e-06\n",
      "  1.7341890e-07 2.1909841e-06]\n",
      " [1.4028416e-07 6.1414795e-08 1.4215872e-09 ... 7.9942943e-08\n",
      "  9.8466968e-05 2.8123146e-09]\n",
      " [3.5514514e-08 3.7036401e-08 5.0451610e-10 ... 7.9722383e-12\n",
      "  6.1653708e-08 9.4817698e-10]]\n"
     ]
    }
   ],
   "source": [
    "# nodes\n",
    "get_output = K.function([model.layers[0].input],[model.layers[-1].output])\n",
    "#X = np.expand_dims(X_test,0)\n",
    "out = get_output(X_test)\n",
    "print('shape',out[0].shape)\n",
    "print(out[0])\n",
    "\n",
    "# there are 512 nodes in first layer"
   ]
  },
  {
   "cell_type": "code",
   "execution_count": null,
   "metadata": {
    "collapsed": false,
    "pycharm": {
     "name": "#%%\n"
    }
   },
   "outputs": [],
   "source": [
    "# weights\n",
    "print('shape',model.layers[which_layer].get_weights()[0].shape)\n",
    "print(model.layers[0].get_weights()[0])\n",
    "\n",
    "# 784 is size of input (28x28 image), 512 is number of neurons in first layer\n",
    "# each neuron has one weight for each input"
   ]
  },
  {
   "cell_type": "code",
   "execution_count": 32,
   "metadata": {
    "collapsed": false
   },
   "outputs": [
    {
     "name": "stdout",
     "output_type": "stream",
     "text": [
      "shape (1, 784)\n",
      "[[0.00111459 0.00111459 0.00111459 0.00111459 0.00111459 0.00111459\n",
      "  0.00111459 0.00111459 0.00111459 0.00111459 0.00111459 0.00111459\n",
      "  0.00111459 0.00111459 0.00111459 0.00111459 0.00111459 0.00111459\n",
      "  0.00111459 0.00111459 0.00111459 0.00111459 0.00111459 0.00111459\n",
      "  0.00111459 0.00111459 0.00111459 0.00111459 0.00111459 0.00111459\n",
      "  0.00111459 0.00111459 0.00111459 0.00111459 0.00111459 0.00111459\n",
      "  0.00111459 0.00111459 0.00111459 0.00111459 0.00111459 0.00111459\n",
      "  0.00111459 0.00111459 0.00111459 0.00111459 0.00111459 0.00111459\n",
      "  0.00111459 0.00111459 0.00111459 0.00111459 0.00111459 0.00111459\n",
      "  0.00111459 0.00111459 0.00111459 0.00111459 0.00111459 0.00111459\n",
      "  0.00111459 0.00111459 0.00111459 0.00111459 0.00111459 0.00111459\n",
      "  0.00111459 0.00111459 0.00111459 0.00111459 0.00111459 0.00111459\n",
      "  0.00111459 0.00111459 0.00111459 0.00111459 0.00111459 0.00111459\n",
      "  0.00111459 0.00111459 0.00111459 0.00111459 0.00111459 0.00111459\n",
      "  0.00111459 0.00111459 0.00111459 0.00111459 0.00111459 0.00111459\n",
      "  0.00111459 0.00111459 0.00111459 0.00111459 0.00111459 0.00111459\n",
      "  0.00111459 0.00111459 0.00111459 0.00111459 0.00111459 0.00111459\n",
      "  0.00111459 0.00111459 0.00111459 0.00111459 0.00111459 0.00111459\n",
      "  0.00111459 0.00111459 0.00111459 0.00111459 0.00111459 0.00111459\n",
      "  0.00111459 0.00111459 0.00111459 0.00111459 0.00111459 0.00111459\n",
      "  0.00111459 0.00111459 0.00111459 0.00111459 0.00111459 0.00111459\n",
      "  0.00111459 0.00111459 0.00111459 0.00111459 0.00111459 0.00111459\n",
      "  0.00111459 0.00111459 0.00111459 0.00111459 0.00111459 0.00111459\n",
      "  0.00111459 0.00111459 0.00111459 0.00111459 0.00111459 0.00111459\n",
      "  0.00111459 0.00111459 0.00111459 0.00111459 0.00111459 0.00111459\n",
      "  0.00111459 0.00111459 0.00111459 0.00111459 0.00111459 0.00111459\n",
      "  0.00111459 0.00111459 0.00111459 0.00111459 0.00111459 0.00111459\n",
      "  0.00111459 0.00111459 0.00111459 0.00111459 0.00111459 0.00111459\n",
      "  0.00111459 0.00111459 0.00111459 0.00111459 0.00111459 0.00111459\n",
      "  0.00111459 0.00111459 0.00111459 0.00111459 0.00111459 0.00111459\n",
      "  0.00111459 0.00111459 0.00111459 0.00111459 0.00111459 0.00111459\n",
      "  0.00111459 0.00111459 0.00111459 0.00111459 0.00111459 0.00111459\n",
      "  0.00111459 0.00111459 0.00111459 0.00111459 0.00111459 0.00111459\n",
      "  0.00111459 0.00111459 0.00111459 0.00111459 0.00154945 0.00230245\n",
      "  0.00207927 0.00201505 0.00141027 0.00128359 0.00111459 0.00111459\n",
      "  0.00111459 0.00111459 0.00111459 0.00111459 0.00111459 0.00111459\n",
      "  0.00111459 0.00111459 0.00111459 0.00111459 0.00111459 0.00111459\n",
      "  0.00111459 0.00111459 0.00111459 0.00111459 0.00111459 0.00111459\n",
      "  0.00111459 0.00111459 0.00266199 0.00301791 0.00301791 0.00301791\n",
      "  0.00301791 0.00286791 0.00242288 0.00242288 0.00242288 0.00242288\n",
      "  0.00242288 0.00242288 0.00242288 0.00242288 0.00217092 0.00136671\n",
      "  0.00111459 0.00111459 0.00111459 0.00111459 0.00111459 0.00111459\n",
      "  0.00111459 0.00111459 0.00111459 0.00111459 0.00111459 0.00111459\n",
      "  0.00144952 0.00174289 0.00147822 0.00174289 0.00211214 0.0027147\n",
      "  0.00301791 0.00269349 0.00301791 0.00301791 0.00301791 0.00297094\n",
      "  0.00273608 0.00301791 0.00301791 0.00192997 0.00111459 0.00111459\n",
      "  0.00111459 0.00111459 0.00111459 0.00111459 0.00111459 0.00111459\n",
      "  0.00111459 0.00111459 0.00111459 0.00111459 0.00111459 0.00111459\n",
      "  0.00111459 0.00111459 0.00111459 0.00119143 0.00144384 0.00117749\n",
      "  0.00144952 0.00144952 0.00144952 0.00140475 0.00121026 0.00281222\n",
      "  0.00301791 0.00168906 0.00111459 0.00111459 0.00111459 0.00111459\n",
      "  0.00111459 0.00111459 0.00111459 0.00111459 0.00111459 0.00111459\n",
      "  0.00111459 0.00111459 0.00111459 0.00111459 0.00111459 0.00111459\n",
      "  0.00111459 0.00111459 0.00111459 0.00111459 0.00111459 0.00111459\n",
      "  0.00111459 0.00111459 0.00154338 0.0030061  0.00252968 0.00119611\n",
      "  0.00111459 0.00111459 0.00111459 0.00111459 0.00111459 0.00111459\n",
      "  0.00111459 0.00111459 0.00111459 0.00111459 0.00111459 0.00111459\n",
      "  0.00111459 0.00111459 0.00111459 0.00111459 0.00111459 0.00111459\n",
      "  0.00111459 0.00111459 0.00111459 0.00111459 0.00111459 0.00121502\n",
      "  0.00277933 0.00302977 0.00154338 0.00111459 0.00111459 0.00111459\n",
      "  0.00111459 0.00111459 0.00111459 0.00111459 0.00111459 0.00111459\n",
      "  0.00111459 0.00111459 0.00111459 0.00111459 0.00111459 0.00111459\n",
      "  0.00111459 0.00111459 0.00111459 0.00111459 0.00111459 0.00111459\n",
      "  0.00111459 0.00111459 0.00111459 0.00184849 0.00301791 0.00283437\n",
      "  0.0013245  0.00111459 0.00111459 0.00111459 0.00111459 0.00111459\n",
      "  0.00111459 0.00111459 0.00111459 0.00111459 0.00111459 0.00111459\n",
      "  0.00111459 0.00111459 0.00111459 0.00111459 0.00111459 0.00111459\n",
      "  0.00111459 0.00111459 0.00111459 0.00111459 0.00111459 0.00111459\n",
      "  0.00140475 0.00295931 0.00301791 0.00142137 0.00111459 0.00111459\n",
      "  0.00111459 0.00111459 0.00111459 0.00111459 0.00111459 0.00111459\n",
      "  0.00111459 0.00111459 0.00111459 0.00111459 0.00111459 0.00111459\n",
      "  0.00111459 0.00111459 0.00111459 0.00111459 0.00111459 0.00111459\n",
      "  0.00111459 0.00111459 0.00111459 0.00111459 0.00187771 0.00301791\n",
      "  0.00232058 0.00113666 0.00111459 0.00111459 0.00111459 0.00111459\n",
      "  0.00111459 0.00111459 0.00111459 0.00111459 0.00111459 0.00111459\n",
      "  0.00111459 0.00111459 0.00111459 0.00111459 0.00111459 0.00111459\n",
      "  0.00111459 0.00111459 0.00111459 0.00111459 0.00111459 0.00111459\n",
      "  0.00111459 0.00115463 0.00249031 0.00294773 0.00139925 0.00111459\n",
      "  0.00111459 0.00111459 0.00111459 0.00111459 0.00111459 0.00111459\n",
      "  0.00111459 0.00111459 0.00111459 0.00111459 0.00111459 0.00111459\n",
      "  0.00111459 0.00111459 0.00111459 0.00111459 0.00111459 0.00111459\n",
      "  0.00111459 0.00111459 0.00111459 0.00111459 0.00111459 0.00182687\n",
      "  0.00301791 0.00227553 0.00111459 0.00111459 0.00111459 0.00111459\n",
      "  0.00111459 0.00111459 0.00111459 0.00111459 0.00111459 0.00111459\n",
      "  0.00111459 0.00111459 0.00111459 0.00111459 0.00111459 0.00111459\n",
      "  0.00111459 0.00111459 0.00111459 0.00111459 0.00111459 0.00111459\n",
      "  0.00111459 0.00111459 0.00149571 0.00298261 0.00285669 0.00139377\n",
      "  0.00111459 0.00111459 0.00111459 0.00111459 0.00111459 0.00111459\n",
      "  0.00111459 0.00111459 0.00111459 0.00111459 0.00111459 0.00111459\n",
      "  0.00111459 0.00111459 0.00111459 0.00111459 0.00111459 0.00111459\n",
      "  0.00111459 0.00111459 0.00111459 0.00111459 0.00111459 0.00120081\n",
      "  0.00265157 0.00301791 0.00213713 0.00111459 0.00111459 0.00111459\n",
      "  0.00111459 0.00111459 0.00111459 0.00111459 0.00111459 0.00111459\n",
      "  0.00111459 0.00111459 0.00111459 0.00111459 0.00111459 0.00111459\n",
      "  0.00111459 0.00111459 0.00111459 0.00111459 0.00111459 0.00111459\n",
      "  0.00111459 0.00111459 0.00112778 0.00247085 0.00301791 0.00263086\n",
      "  0.00127857 0.00111459 0.00111459 0.00111459 0.00111459 0.00111459\n",
      "  0.00111459 0.00111459 0.00111459 0.00111459 0.00111459 0.00111459\n",
      "  0.00111459 0.00111459 0.00111459 0.00111459 0.00111459 0.00111459\n",
      "  0.00111459 0.00111459 0.00111459 0.00111459 0.00111459 0.00111459\n",
      "  0.0012937  0.00301791 0.00301791 0.00150749 0.00111459 0.00111459\n",
      "  0.00111459 0.00111459 0.00111459 0.00111459 0.00111459 0.00111459\n",
      "  0.00111459 0.00111459 0.00111459 0.00111459 0.00111459 0.00111459\n",
      "  0.00111459 0.00111459 0.00111459 0.00111459 0.00111459 0.00111459\n",
      "  0.00111459 0.00111459 0.00111459 0.00125867 0.00268295 0.00301791\n",
      "  0.00174974 0.00111897 0.00111459 0.00111459 0.00111459 0.00111459\n",
      "  0.00111459 0.00111459 0.00111459 0.00111459 0.00111459 0.00111459\n",
      "  0.00111459 0.00111459 0.00111459 0.00111459 0.00111459 0.00111459\n",
      "  0.00111459 0.00111459 0.00111459 0.00111459 0.00111459 0.00111459\n",
      "  0.00111459 0.00187771 0.00301791 0.00301791 0.00136671 0.00111459\n",
      "  0.00111459 0.00111459 0.00111459 0.00111459 0.00111459 0.00111459\n",
      "  0.00111459 0.00111459 0.00111459 0.00111459 0.00111459 0.00111459\n",
      "  0.00111459 0.00111459 0.00111459 0.00111459 0.00111459 0.00111459\n",
      "  0.00111459 0.00111459 0.00111459 0.00111459 0.00141581 0.00287918\n",
      "  0.00301791 0.00301791 0.00136671 0.00111459 0.00111459 0.00111459\n",
      "  0.00111459 0.00111459 0.00111459 0.00111459 0.00111459 0.00111459\n",
      "  0.00111459 0.00111459 0.00111459 0.00111459 0.00111459 0.00111459\n",
      "  0.00111459 0.00111459 0.00111459 0.00111459 0.00111459 0.00111459\n",
      "  0.00111459 0.00111459 0.0017914  0.00301791 0.00301791 0.00263086\n",
      "  0.00130388 0.00111459 0.00111459 0.00111459 0.00111459 0.00111459\n",
      "  0.00111459 0.00111459 0.00111459 0.00111459 0.00111459 0.00111459\n",
      "  0.00111459 0.00111459 0.00111459 0.00111459 0.00111459 0.00111459\n",
      "  0.00111459 0.00111459 0.00111459 0.00111459 0.00111459 0.00111459\n",
      "  0.0017914  0.00301791 0.00250992 0.00119611 0.00111459 0.00111459\n",
      "  0.00111459 0.00111459 0.00111459 0.00111459 0.00111459 0.00111459\n",
      "  0.00111459 0.00111459 0.00111459 0.00111459 0.00111459 0.00111459\n",
      "  0.00111459 0.00111459 0.00111459 0.00111459 0.00111459 0.00111459\n",
      "  0.00111459 0.00111459 0.00111459 0.00111459 0.00111459 0.00111459\n",
      "  0.00111459 0.00111459 0.00111459 0.00111459 0.00111459 0.00111459\n",
      "  0.00111459 0.00111459 0.00111459 0.00111459 0.00111459 0.00111459\n",
      "  0.00111459 0.00111459 0.00111459 0.00111459]]\n"
     ]
    }
   ],
   "source": [
    "# nodes\n",
    "get_output = K.function([model.layers[which_layer].input],[model.layers[which_layer].output])\n",
    "X = np.expand_dims(X_train[0],0)\n",
    "out = get_output([X])\n",
    "print('shape',out[0].shape)\n",
    "print(out[0])\n",
    "\n",
    "# there are 512 nodes in first layer"
   ]
  },
  {
   "cell_type": "code",
   "execution_count": 73,
   "metadata": {
    "collapsed": false
   },
   "outputs": [
    {
     "name": "stdout",
     "output_type": "stream",
     "text": [
      "shape (784, 512)\n",
      "[[-0.01705032  0.06688315 -0.04721947 ... -0.01133662 -0.00813685\n",
      "   0.01695425]\n",
      " [ 0.04789343  0.06683947  0.02081912 ...  0.00319567 -0.02714358\n",
      "   0.01112826]\n",
      " [-0.00681685  0.00467258  0.00508815 ...  0.00950886  0.00476932\n",
      "   0.03852448]\n",
      " ...\n",
      " [ 0.03674617  0.01041804 -0.04704609 ... -0.05194244 -0.03938298\n",
      "  -0.05636781]\n",
      " [ 0.00855551 -0.04768987 -0.04954233 ... -0.05618817  0.00913927\n",
      "  -0.01562705]\n",
      " [ 0.00854884 -0.03513841 -0.06184238 ...  0.0557292   0.05819792\n",
      "   0.05257715]]\n"
     ]
    }
   ],
   "source": [
    "# weights\n",
    "print('shape',model.layers[which_layer].get_weights()[0].shape)\n",
    "print(model.layers[0].get_weights()[0])\n",
    "\n",
    "# 784 is size of input (28x28 image), 512 is number of neurons in first layer\n",
    "# each neuron has one weight for each input"
   ]
  },
  {
   "cell_type": "code",
   "execution_count": 43,
   "metadata": {
    "collapsed": true
   },
   "outputs": [],
   "source": [
    "(X_train, y_train), (X_test, y_test) = mnist.load_data()\n",
    "np.savez('preds',softmax=out[0], predicted_classes=predicted_classes)"
   ]
  },
  {
   "cell_type": "code",
   "execution_count": null,
   "metadata": {
    "collapsed": true
   },
   "outputs": [],
   "source": []
  }
 ],
 "metadata": {
  "kernelspec": {
   "display_name": "VIZ",
   "language": "python",
   "name": "viz"
  },
  "language_info": {
   "codemirror_mode": {
    "name": "ipython",
    "version": 3
   },
   "file_extension": ".py",
   "mimetype": "text/x-python",
   "name": "python",
   "nbconvert_exporter": "python",
   "pygments_lexer": "ipython3",
   "version": "3.7.4"
  },
  "pycharm": {
   "stem_cell": {
    "cell_type": "raw",
    "metadata": {
     "collapsed": false
    },
    "source": []
   }
  }
 },
 "nbformat": 4,
 "nbformat_minor": 0
}
